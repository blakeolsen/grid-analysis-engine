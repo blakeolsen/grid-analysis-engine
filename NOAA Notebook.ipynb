{
 "cells": [
  {
   "cell_type": "code",
   "execution_count": 15,
   "metadata": {},
   "outputs": [],
   "source": [
    "# Configuration\n",
    "\n",
    "from datetime import datetime, date\n",
    "from google.cloud import bigquery\n",
    "import os\n",
    "import pandas as pd\n",
    "file = '/Users/blakeolsen/Projects/grid-analysis-engine/data/chicago_2019.csv'\n",
    "location = 'Chicago'\n",
    "table_name = 'grid-analysis-engine.noaa_org.hourly_data'"
   ]
  },
  {
   "cell_type": "code",
   "execution_count": 22,
   "metadata": {},
   "outputs": [
    {
     "name": "stdout",
     "output_type": "stream",
     "text": [
      "skipping 79s\n",
      "skipping 79s\n"
     ]
    },
    {
     "name": "stderr",
     "output_type": "stream",
     "text": [
      "/Users/blakeolsen/opt/anaconda3/lib/python3.7/site-packages/IPython/core/interactiveshell.py:3063: DtypeWarning: Columns (30,31,33,43,69,71,75,88,89) have mixed types.Specify dtype option on import or set low_memory=False.\n",
      "  interactivity=interactivity, compiler=compiler, result=result)\n"
     ]
    }
   ],
   "source": [
    "# ETL\n",
    "\n",
    "def float_or_none(value):\n",
    "    try:\n",
    "        return float(value)\n",
    "    except Exception:\n",
    "        print(f\"skipping {value}\")\n",
    "        return None\n",
    "    \n",
    "denormalized = pd.read_csv(file)\n",
    "normalized = pd.DataFrame(data={\n",
    "    'TS': denormalized['DATE'].apply(datetime.fromisoformat),\n",
    "    'WIND': denormalized['HourlyWindSpeed'].apply(float_or_none),\n",
    "    'TEMP_CELCIUS': denormalized['HourlyDryBulbTemperature'].apply(float_or_none)\n",
    "})\n",
    "timeseries = normalized.drop_duplicates(subset=['TS']).set_index('TS').resample('H').interpolate().reset_index()\n",
    "timeseries['LOCATION'] = location"
   ]
  },
  {
   "cell_type": "code",
   "execution_count": 41,
   "metadata": {},
   "outputs": [
    {
     "name": "stdout",
     "output_type": "stream",
     "text": [
      "Overlapping existing data\n"
     ]
    }
   ],
   "source": [
    "# UPLOAD to BIGQUERY\n",
    "# dumb logic to stop if either the ends are included\n",
    "\n",
    "bq = bigquery.Client()\n",
    "query_results = bq.query(\n",
    "    f\"\"\"\n",
    "    SELECT *\n",
    "    FROM grid-analysis-engine.noaa_org.hourly_data\n",
    "    WHERE\n",
    "      LOCATION = '{location}' AND (\n",
    "      TS = TIMESTAMP(\"{timeseries['TS'][0].isoformat(sep=' ')}\") OR\n",
    "      TS = TIMESTAMP(\"{list(timeseries.iloc[[-1]]['TS'])[0].isoformat(sep=\" \")}\")\n",
    "      )\n",
    "    \"\"\",\n",
    "    job_config = bigquery.QueryJobConfig(),\n",
    "    \n",
    ")\n",
    "if query_results.result().total_rows > 0:\n",
    "    print(f\"Overlapping existing data\")\n",
    "else:\n",
    "    table = bq.get_table(table_name)\n",
    "    print(f\"Loading data to {table_name}\")\n",
    "    #bq.load_table_from_dataframe(timeseries, table)"
   ]
  },
  {
   "cell_type": "code",
   "execution_count": null,
   "metadata": {},
   "outputs": [],
   "source": []
  }
 ],
 "metadata": {
  "kernelspec": {
   "display_name": "Python 3",
   "language": "python",
   "name": "python3"
  },
  "language_info": {
   "codemirror_mode": {
    "name": "ipython",
    "version": 3
   },
   "file_extension": ".py",
   "mimetype": "text/x-python",
   "name": "python",
   "nbconvert_exporter": "python",
   "pygments_lexer": "ipython3",
   "version": "3.7.6"
  }
 },
 "nbformat": 4,
 "nbformat_minor": 4
}
