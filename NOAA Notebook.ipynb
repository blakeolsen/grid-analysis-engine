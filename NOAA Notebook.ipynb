{
 "cells": [
  {
   "cell_type": "code",
   "execution_count": 15,
   "metadata": {},
   "outputs": [],
   "source": [
    "# Configuration\n",
    "\n",
    "from datetime import datetime, date\n",
    "from google.cloud import bigquery\n",
    "import os\n",
    "import pandas as pd\n",
    "file = '/Users/blakeolsen/Projects/grid-analysis-engine/data/chicago_2019.csv'\n",
    "location = 'Chicago'\n",
    "table_name = 'grid-analysis-engine.noaa_org.hourly_data'"
   ]
  },
  {
   "cell_type": "code",
   "execution_count": 22,
   "metadata": {},
   "outputs": [
    {
     "name": "stdout",
     "output_type": "stream",
     "text": [
      "skipping 79s\n",
      "skipping 79s\n"
     ]
    },
    {
     "name": "stderr",
     "output_type": "stream",
     "text": [
      "/Users/blakeolsen/opt/anaconda3/lib/python3.7/site-packages/IPython/core/interactiveshell.py:3063: DtypeWarning: Columns (30,31,33,43,69,71,75,88,89) have mixed types.Specify dtype option on import or set low_memory=False.\n",
      "  interactivity=interactivity, compiler=compiler, result=result)\n"
     ]
    }
   ],
   "source": [
    "# ETL\n",
    "\n",
    "def float_or_none(value):\n",
    "    try:\n",
    "        return float(value)\n",
    "    except Exception:\n",
    "        print(f\"skipping {value}\")\n",
    "        return None\n",
    "    \n",
    "denormalized = pd.read_csv(file)\n",
    "normalized = pd.DataFrame(data={\n",
    "    'TS': denormalized['DATE'].apply(datetime.fromisoformat),\n",
    "    'WIND': denormalized['HourlyWindSpeed'].apply(float_or_none),\n",
    "    'TEMP_CELCIUS': denormalized['HourlyDryBulbTemperature'].apply(float_or_none)\n",
    "})\n",
    "timeseries = normalized.drop_duplicates(subset=['TS']).set_index('TS').resample('H').interpolate().reset_index()\n",
    "timeseries['LOCATION'] = location"
   ]
  },
  {
   "cell_type": "code",
   "execution_count": 12,
   "metadata": {},
   "outputs": [
    {
     "data": {
      "text/html": [
       "<div>\n",
       "<style scoped>\n",
       "    .dataframe tbody tr th:only-of-type {\n",
       "        vertical-align: middle;\n",
       "    }\n",
       "\n",
       "    .dataframe tbody tr th {\n",
       "        vertical-align: top;\n",
       "    }\n",
       "\n",
       "    .dataframe thead th {\n",
       "        text-align: right;\n",
       "    }\n",
       "</style>\n",
       "<table border=\"1\" class=\"dataframe\">\n",
       "  <thead>\n",
       "    <tr style=\"text-align: right;\">\n",
       "      <th></th>\n",
       "      <th>WIND</th>\n",
       "      <th>TEMP_CELCIUS</th>\n",
       "      <th>LOCATION</th>\n",
       "    </tr>\n",
       "    <tr>\n",
       "      <th>TS</th>\n",
       "      <th></th>\n",
       "      <th></th>\n",
       "      <th></th>\n",
       "    </tr>\n",
       "  </thead>\n",
       "  <tbody>\n",
       "    <tr>\n",
       "      <th>2019-01-01 00:00:00</th>\n",
       "      <td>9.000000</td>\n",
       "      <td>34.000000</td>\n",
       "      <td>Chicago</td>\n",
       "    </tr>\n",
       "    <tr>\n",
       "      <th>2019-01-01 01:00:00</th>\n",
       "      <td>9.333333</td>\n",
       "      <td>33.333333</td>\n",
       "      <td>Chicago</td>\n",
       "    </tr>\n",
       "    <tr>\n",
       "      <th>2019-01-01 02:00:00</th>\n",
       "      <td>9.666667</td>\n",
       "      <td>32.666667</td>\n",
       "      <td>Chicago</td>\n",
       "    </tr>\n",
       "    <tr>\n",
       "      <th>2019-01-01 03:00:00</th>\n",
       "      <td>10.000000</td>\n",
       "      <td>32.000000</td>\n",
       "      <td>Chicago</td>\n",
       "    </tr>\n",
       "    <tr>\n",
       "      <th>2019-01-01 04:00:00</th>\n",
       "      <td>10.333333</td>\n",
       "      <td>31.333333</td>\n",
       "      <td>Chicago</td>\n",
       "    </tr>\n",
       "    <tr>\n",
       "      <th>...</th>\n",
       "      <td>...</td>\n",
       "      <td>...</td>\n",
       "      <td>...</td>\n",
       "    </tr>\n",
       "    <tr>\n",
       "      <th>2019-12-31 19:00:00</th>\n",
       "      <td>14.000000</td>\n",
       "      <td>28.000000</td>\n",
       "      <td>Chicago</td>\n",
       "    </tr>\n",
       "    <tr>\n",
       "      <th>2019-12-31 20:00:00</th>\n",
       "      <td>14.000000</td>\n",
       "      <td>28.000000</td>\n",
       "      <td>Chicago</td>\n",
       "    </tr>\n",
       "    <tr>\n",
       "      <th>2019-12-31 21:00:00</th>\n",
       "      <td>14.000000</td>\n",
       "      <td>28.000000</td>\n",
       "      <td>Chicago</td>\n",
       "    </tr>\n",
       "    <tr>\n",
       "      <th>2019-12-31 22:00:00</th>\n",
       "      <td>14.000000</td>\n",
       "      <td>28.000000</td>\n",
       "      <td>Chicago</td>\n",
       "    </tr>\n",
       "    <tr>\n",
       "      <th>2019-12-31 23:00:00</th>\n",
       "      <td>14.000000</td>\n",
       "      <td>28.000000</td>\n",
       "      <td>Chicago</td>\n",
       "    </tr>\n",
       "  </tbody>\n",
       "</table>\n",
       "<p>8760 rows × 3 columns</p>\n",
       "</div>"
      ],
      "text/plain": [
       "                          WIND  TEMP_CELCIUS LOCATION\n",
       "TS                                                   \n",
       "2019-01-01 00:00:00   9.000000     34.000000  Chicago\n",
       "2019-01-01 01:00:00   9.333333     33.333333  Chicago\n",
       "2019-01-01 02:00:00   9.666667     32.666667  Chicago\n",
       "2019-01-01 03:00:00  10.000000     32.000000  Chicago\n",
       "2019-01-01 04:00:00  10.333333     31.333333  Chicago\n",
       "...                        ...           ...      ...\n",
       "2019-12-31 19:00:00  14.000000     28.000000  Chicago\n",
       "2019-12-31 20:00:00  14.000000     28.000000  Chicago\n",
       "2019-12-31 21:00:00  14.000000     28.000000  Chicago\n",
       "2019-12-31 22:00:00  14.000000     28.000000  Chicago\n",
       "2019-12-31 23:00:00  14.000000     28.000000  Chicago\n",
       "\n",
       "[8760 rows x 3 columns]"
      ]
     },
     "execution_count": 12,
     "metadata": {},
     "output_type": "execute_result"
    }
   ],
   "source": [
    "# UPLOAD to BIGQUERY\n",
    "# dumb logic to stop if either the ends are included\n",
    "\n",
    "bq = bigquery.Client()\n",
    "query_results = bq.query(\n",
    "    f\"\"\"\n",
    "    SELECT *\n",
    "    FROM grid-analysis-engine.noaa_org.hourly_data\n",
    "    WHERE\n",
    "      LOCATION = '{location}' AND (\n",
    "      TS = TIMESTAMP(\"{timeseries['TS'][0].isoformat(sep=' ')}\") OR\n",
    "      TS = TIMESTAMP(\"{list(timeseries.iloc[[-1]]['TS'])[0].isoformat(sep=\" \")}\")\n",
    "      )\n",
    "    \"\"\",\n",
    "    job_config = bigquery.QueryJobConfig(),\n",
    "    \n",
    ")\n",
    "if query_results.result().total_rows > 0:\n",
    "    print(f\"Overlapping existing data\")\n",
    "else:\n",
    "    table = bq.get_table(table_name)\n",
    "    bq.load_table_from_dataframe()"
   ]
  },
  {
   "cell_type": "code",
   "execution_count": 16,
   "metadata": {},
   "outputs": [
    {
     "data": {
      "text/plain": [
       "<google.cloud.bigquery.job.LoadJob at 0x7fd55d3700d0>"
      ]
     },
     "execution_count": 16,
     "metadata": {},
     "output_type": "execute_result"
    }
   ],
   "source": [
    "import os\n",
    "os.environ['GOOGLE_APPLICATION_CREDENTIALS'] = '/Users/blakeolsen/Projects/grid-analysis-engine/secrets/grid-analysis-engine-339ba196fb10.json'\n",
    "\n",
    "bq = bigquery.Client()\n",
    "table = bq.create_table(table_name)\n",
    "bq.load_table_from_dataframe(timeseries, table)"
   ]
  },
  {
   "cell_type": "code",
   "execution_count": 40,
   "metadata": {},
   "outputs": [
    {
     "data": {
      "text/plain": [
       "[Timestamp('2019-12-31 23:00:00')]"
      ]
     },
     "execution_count": 40,
     "metadata": {},
     "output_type": "execute_result"
    }
   ],
   "source": [
    "list(timeseries.iloc[[-1]]['TS'])[0]\n"
   ]
  },
  {
   "cell_type": "code",
   "execution_count": null,
   "metadata": {},
   "outputs": [],
   "source": []
  }
 ],
 "metadata": {
  "kernelspec": {
   "display_name": "Python 3",
   "language": "python",
   "name": "python3"
  },
  "language_info": {
   "codemirror_mode": {
    "name": "ipython",
    "version": 3
   },
   "file_extension": ".py",
   "mimetype": "text/x-python",
   "name": "python",
   "nbconvert_exporter": "python",
   "pygments_lexer": "ipython3",
   "version": "3.7.6"
  }
 },
 "nbformat": 4,
 "nbformat_minor": 4
}
