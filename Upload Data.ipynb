{
 "cells": [
  {
   "cell_type": "code",
   "execution_count": 88,
   "metadata": {},
   "outputs": [],
   "source": [
    "os.environ['GOOGLE_APPLICATION_CREDENTIALS']='/Users/blakeolsen/Projects/grid-analysis-engine/secrets/grid-analysis-engine-339ba196fb10.json'\n",
    "bq = bigquery.Client()\n",
    "try:\n",
    "    table = bq.get_table('grid-analysis-engine.misoenergy_org.miso_da_expost_lmp')\n",
    "except Exception:\n",
    "    table = None\n",
    "table"
   ]
  },
  {
   "cell_type": "code",
   "execution_count": 91,
   "metadata": {},
   "outputs": [
    {
     "name": "stdout",
     "output_type": "stream",
     "text": [
      "<google.cloud.bigquery.job.QueryJob object at 0x7fcbc913a450>\n"
     ]
    },
    {
     "data": {
      "text/plain": [
       "<google.cloud.bigquery.job.QueryJob at 0x7fcbc913a450>"
      ]
     },
     "execution_count": 91,
     "metadata": {},
     "output_type": "execute_result"
    }
   ],
   "source": [
    "results."
   ]
  },
  {
   "cell_type": "code",
   "execution_count": 1,
   "metadata": {},
   "outputs": [],
   "source": [
    "from google.cloud import bigquery\n",
    "from datetime import date, datetime, timedelta\n",
    "import os\n",
    "import pandas as pd"
   ]
  },
  {
   "cell_type": "code",
   "execution_count": null,
   "metadata": {},
   "outputs": [],
   "source": [
    "# Upload LMP hourly data from MISO.org to BigQuery\n",
    "# iterate over full year\n",
    "\n",
    "from miso_org import client\n",
    "\n",
    "bq = bigquery.Client()\n",
    "miso = client.DayAheadMarketClient()\n",
    "\n",
    "def get_for_day(day: date):\n",
    "    return miso.day_ahead_lmp(day).rename(lambda w: w.replace('.', '_'), axis='columns')\n",
    "\n",
    "start_date = date(2019,1,1)\n",
    "total = get_for_day(start_date)\n",
    "for days_after in range(365-1):\n",
    "    day = start_date + timedelta(days=days_after+1)\n",
    "    print(day)\n",
    "    total = total.append(get_for_day(day), ignore_index=True)\n",
    "\n",
    "table_prefix = 'grid-analysis-engine.misoenergy_org'\n",
    "table_id = f\"{table_prefix}.miso_lmp_expost_2019\"\n",
    "table = bq.create_table(table_id)\n",
    "bq.load_table_from_dataframe(total, table)\n"
   ]
  }
 ],
 "metadata": {
  "kernelspec": {
   "display_name": "Python 3",
   "language": "python",
   "name": "python3"
  },
  "language_info": {
   "codemirror_mode": {
    "name": "ipython",
    "version": 3
   },
   "file_extension": ".py",
   "mimetype": "text/x-python",
   "name": "python",
   "nbconvert_exporter": "python",
   "pygments_lexer": "ipython3",
   "version": "3.7.6"
  }
 },
 "nbformat": 4,
 "nbformat_minor": 4
}
